{
 "cells": [
  {
   "cell_type": "code",
   "execution_count": 1,
   "id": "5c73d9bc",
   "metadata": {
    "scrolled": true
   },
   "outputs": [],
   "source": [
    "import pandas as pd\n",
    "df1 = pd.read_parquet(\"/home/gxu21/dalle-mini/cs269/src/small_encoded_data/train/150.parquet\") "
   ]
  },
  {
   "cell_type": "code",
   "execution_count": 2,
   "id": "011b44fc",
   "metadata": {},
   "outputs": [
    {
     "data": {
      "text/html": [
       "<div>\n",
       "<style scoped>\n",
       "    .dataframe tbody tr th:only-of-type {\n",
       "        vertical-align: middle;\n",
       "    }\n",
       "\n",
       "    .dataframe tbody tr th {\n",
       "        vertical-align: top;\n",
       "    }\n",
       "\n",
       "    .dataframe thead th {\n",
       "        text-align: right;\n",
       "    }\n",
       "</style>\n",
       "<table border=\"1\" class=\"dataframe\">\n",
       "  <thead>\n",
       "    <tr style=\"text-align: right;\">\n",
       "      <th></th>\n",
       "      <th>caption</th>\n",
       "      <th>encoding</th>\n",
       "    </tr>\n",
       "  </thead>\n",
       "  <tbody>\n",
       "    <tr>\n",
       "      <th>20</th>\n",
       "      <td>a photo of volcanic eruption</td>\n",
       "      <td>[1268, 14793, 5919, 14447, 1268, 10689, 15630,...</td>\n",
       "    </tr>\n",
       "    <tr>\n",
       "      <th>21</th>\n",
       "      <td>a photo of collapsed pier</td>\n",
       "      <td>[10529, 9345, 10553, 10362, 4644, 6933, 10508,...</td>\n",
       "    </tr>\n",
       "    <tr>\n",
       "      <th>22</th>\n",
       "      <td>a photo of fog on ocean coast</td>\n",
       "      <td>[2683, 9296, 194, 432, 12566, 1270, 1872, 9514...</td>\n",
       "    </tr>\n",
       "    <tr>\n",
       "      <th>23</th>\n",
       "      <td>a photo of desert road</td>\n",
       "      <td>[1270, 9889, 4301, 4301, 1024, 11492, 4301, 11...</td>\n",
       "    </tr>\n",
       "    <tr>\n",
       "      <th>24</th>\n",
       "      <td>a photo of snow covered snowfield</td>\n",
       "      <td>[6601, 7896, 12927, 12480, 15910, 1139, 14839,...</td>\n",
       "    </tr>\n",
       "    <tr>\n",
       "      <th>25</th>\n",
       "      <td>a photo of earthquake at gas station</td>\n",
       "      <td>[4704, 3168, 4483, 5201, 13513, 9117, 8026, 19...</td>\n",
       "    </tr>\n",
       "    <tr>\n",
       "      <th>26</th>\n",
       "      <td>a photo of dust sand storm and fog in desert</td>\n",
       "      <td>[6092, 12623, 12016, 5900, 15739, 14933, 14164...</td>\n",
       "    </tr>\n",
       "    <tr>\n",
       "      <th>27</th>\n",
       "      <td>a photo of fire on highway in forest</td>\n",
       "      <td>[13769, 11610, 7191, 12143, 7372, 12145, 3379,...</td>\n",
       "    </tr>\n",
       "    <tr>\n",
       "      <th>28</th>\n",
       "      <td>a photo of heavy rainfall on river</td>\n",
       "      <td>[6271, 8408, 9957, 12672, 13586, 14473, 12124,...</td>\n",
       "    </tr>\n",
       "    <tr>\n",
       "      <th>29</th>\n",
       "      <td>a photo of flooded river</td>\n",
       "      <td>[8517, 1024, 1850, 14059, 271, 9183, 5960, 506...</td>\n",
       "    </tr>\n",
       "  </tbody>\n",
       "</table>\n",
       "</div>"
      ],
      "text/plain": [
       "                                         caption  \\\n",
       "20                  a photo of volcanic eruption   \n",
       "21                     a photo of collapsed pier   \n",
       "22                 a photo of fog on ocean coast   \n",
       "23                        a photo of desert road   \n",
       "24             a photo of snow covered snowfield   \n",
       "25          a photo of earthquake at gas station   \n",
       "26  a photo of dust sand storm and fog in desert   \n",
       "27          a photo of fire on highway in forest   \n",
       "28            a photo of heavy rainfall on river   \n",
       "29                      a photo of flooded river   \n",
       "\n",
       "                                             encoding  \n",
       "20  [1268, 14793, 5919, 14447, 1268, 10689, 15630,...  \n",
       "21  [10529, 9345, 10553, 10362, 4644, 6933, 10508,...  \n",
       "22  [2683, 9296, 194, 432, 12566, 1270, 1872, 9514...  \n",
       "23  [1270, 9889, 4301, 4301, 1024, 11492, 4301, 11...  \n",
       "24  [6601, 7896, 12927, 12480, 15910, 1139, 14839,...  \n",
       "25  [4704, 3168, 4483, 5201, 13513, 9117, 8026, 19...  \n",
       "26  [6092, 12623, 12016, 5900, 15739, 14933, 14164...  \n",
       "27  [13769, 11610, 7191, 12143, 7372, 12145, 3379,...  \n",
       "28  [6271, 8408, 9957, 12672, 13586, 14473, 12124,...  \n",
       "29  [8517, 1024, 1850, 14059, 271, 9183, 5960, 506...  "
      ]
     },
     "execution_count": 2,
     "metadata": {},
     "output_type": "execute_result"
    }
   ],
   "source": [
    "df1.iloc[20:30]"
   ]
  },
  {
   "cell_type": "code",
   "execution_count": 10,
   "id": "5d05c604",
   "metadata": {},
   "outputs": [
    {
     "name": "stdout",
     "output_type": "stream",
     "text": [
      "/home/gxu21/dalle-mini/cs269/src\r\n"
     ]
    }
   ],
   "source": [
    "!pwd"
   ]
  },
  {
   "cell_type": "code",
   "execution_count": null,
   "id": "e6ea5b0b",
   "metadata": {},
   "outputs": [],
   "source": [
    "'/home/gxu21/dalle-mini/cs269/src/aug_encoded_data/train/001.parquet'"
   ]
  }
 ],
 "metadata": {
  "kernelspec": {
   "display_name": "Python 3 (ipykernel)",
   "language": "python",
   "name": "python3"
  },
  "language_info": {
   "codemirror_mode": {
    "name": "ipython",
    "version": 3
   },
   "file_extension": ".py",
   "mimetype": "text/x-python",
   "name": "python",
   "nbconvert_exporter": "python",
   "pygments_lexer": "ipython3",
   "version": "3.7.11"
  }
 },
 "nbformat": 4,
 "nbformat_minor": 5
}
